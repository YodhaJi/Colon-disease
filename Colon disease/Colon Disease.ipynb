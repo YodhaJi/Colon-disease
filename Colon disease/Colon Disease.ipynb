{
 "cells": [
  {
   "cell_type": "code",
   "execution_count": null,
   "id": "f9306de7",
   "metadata": {},
   "outputs": [],
   "source": [
    "import os\n",
    "import pandas as pd\n",
    "import numpy as np\n",
    "import matplotlib.pyplot as plt\n",
    "#import seaborn as sns"
   ]
  },
  {
   "cell_type": "code",
   "execution_count": null,
   "id": "47cadd92-9c02-493f-b82c-b9ddf1a4e8ef",
   "metadata": {},
   "outputs": [],
   "source": [
    "data_dir = 'F:\\colon disease'"
   ]
  },
  {
   "cell_type": "code",
   "execution_count": null,
   "id": "cca928a6-611d-4f01-8208-323c1293056b",
   "metadata": {},
   "outputs": [],
   "source": [
    "os.listdir(data_dir)"
   ]
  },
  {
   "cell_type": "code",
   "execution_count": null,
   "id": "5e439740-cfa1-4dc3-9572-bb236f9899e7",
   "metadata": {},
   "outputs": [],
   "source": [
    "from matplotlib.image import imread"
   ]
  },
  {
   "cell_type": "code",
   "execution_count": null,
   "id": "0296b3d9-5820-4534-90b6-657d0908f5b2",
   "metadata": {},
   "outputs": [],
   "source": [
    "train_path = data_dir+'\\\\train\\\\'\n",
    "test_path = data_dir+'\\\\test\\\\'"
   ]
  },
  {
   "cell_type": "code",
   "execution_count": null,
   "id": "75d1d4ca-8818-45b2-96da-be0e296c7ea6",
   "metadata": {},
   "outputs": [],
   "source": [
    "os.listdir(train_path+'\\\\0_normal\\\\')[0]"
   ]
  },
  {
   "cell_type": "code",
   "execution_count": null,
   "id": "f3211b06-9ba4-49fb-82d5-87dbfeda64eb",
   "metadata": {},
   "outputs": [],
   "source": [
    "x=train_path+'0_normal\\\\'+'train_normal_ (1).jpg'\n",
    "x"
   ]
  },
  {
   "cell_type": "code",
   "execution_count": null,
   "id": "18b6c0e9-6e63-46a6-849a-edb3c822c2c2",
   "metadata": {},
   "outputs": [],
   "source": [
    "imread(x).max()"
   ]
  },
  {
   "cell_type": "code",
   "execution_count": null,
   "id": "035f4477-5701-4d48-a56e-cd1e65517ef0",
   "metadata": {},
   "outputs": [],
   "source": [
    "dim1 = []\n",
    "dim2 = []\n",
    "for image in os.listdir(train_path+'0_normal'):\n",
    "    img = imread(train_path+'0_normal\\\\'+image)\n",
    "    d1,d2,c = img.shape\n",
    "    dim1.append(d1)\n",
    "    dim2.append(d2)\n",
    "    "
   ]
  },
  {
   "cell_type": "code",
   "execution_count": null,
   "id": "c36f4623-d84f-4476-8633-d5bb9235bf32",
   "metadata": {},
   "outputs": [],
   "source": [
    "round(np.mean(dim1))\n",
    "round(np.mean(dim2))"
   ]
  },
  {
   "cell_type": "code",
   "execution_count": null,
   "id": "274fd013-34b6-4e89-903b-ac480b04f91b",
   "metadata": {},
   "outputs": [],
   "source": [
    "from tensorflow.keras.preprocessing.image import ImageDataGenerator"
   ]
  },
  {
   "cell_type": "code",
   "execution_count": null,
   "id": "59388729-58d0-4072-8090-1cbd8aeba696",
   "metadata": {},
   "outputs": [],
   "source": [
    "image_gen = ImageDataGenerator(rescale = 1/255,horizontal_flip=True,vertical_flip = True)"
   ]
  },
  {
   "cell_type": "code",
   "execution_count": null,
   "id": "eff3dfd8-9265-49f7-b06d-16de23f427c2",
   "metadata": {},
   "outputs": [],
   "source": [
    "plt.imshow(imread(x))"
   ]
  },
  {
   "cell_type": "code",
   "execution_count": null,
   "id": "cda2f590-2433-4bc3-854a-8c985fb93007",
   "metadata": {},
   "outputs": [],
   "source": [
    "plt.imshow(image_gen.random_transform(imread(x)))"
   ]
  },
  {
   "cell_type": "code",
   "execution_count": null,
   "id": "7b85b71b-e56f-478f-988e-129e4461a50b",
   "metadata": {},
   "outputs": [],
   "source": [
    "image_gen.flow_from_directory(train_path)"
   ]
  },
  {
   "cell_type": "code",
   "execution_count": null,
   "id": "69126d0b-93c8-4353-8faa-a730da3adeb7",
   "metadata": {},
   "outputs": [],
   "source": [
    "image_shape=(round(np.mean(dim1)),round(np.mean(dim2)),3)"
   ]
  },
  {
   "cell_type": "code",
   "execution_count": null,
   "id": "f4b6ab30-2a99-4d0a-b402-c2a2fc35f964",
   "metadata": {},
   "outputs": [],
   "source": [
    "from tensorflow.keras.models import Sequential\n",
    "from tensorflow.keras.layers import Dense, Conv2D, MaxPool2D, Flatten, Dropout"
   ]
  },
  {
   "cell_type": "code",
   "execution_count": null,
   "id": "96023e23-7521-4d5f-92ae-526851b704c8",
   "metadata": {},
   "outputs": [],
   "source": [
    "model = Sequential()\n",
    "model.add(Conv2D(filters=32,kernel_size=(3,3),input_shape = image_shape, activation='relu'))\n",
    "model.add(MaxPool2D(pool_size = (2,2)))\n",
    "\n",
    "model.add(Conv2D(filters=16,kernel_size=(3,3),input_shape = image_shape, activation='relu'))\n",
    "model.add(MaxPool2D(pool_size = (2,2)))\n",
    "model.add(Drop(0.5))\n",
    "\n",
    "model.add(Conv2D(filters=16,kernel_size=(3,3),input_shape = image_shape, activation='relu'))\n",
    "model.add(MaxPool2D(pool_size = (2,2)))\n",
    "\n",
    "model.add(Flatten())\n",
    "\n",
    "model.add(Dense(64,activation='relu'))\n",
    "model.add(Dropout(0.5))\n",
    "\n",
    "model.add(Dense(4, activation='softmax'))\n",
    "\n",
    "model.compile(loss='categorical_crossentropy',optimizer='adam',metrics=['accuracy'])\n",
    "\n"
   ]
  },
  {
   "cell_type": "code",
   "execution_count": null,
   "id": "a246fdfd-596e-4ed6-80d7-3fb805e23594",
   "metadata": {},
   "outputs": [],
   "source": [
    "from tensorflow.keras.callbacks import EarlyStopping"
   ]
  },
  {
   "cell_type": "code",
   "execution_count": null,
   "id": "9b20f252-2198-4fd8-96ee-18cae027159c",
   "metadata": {},
   "outputs": [],
   "source": [
    "early_stop = EarlyStopping(monitor='val_loss',patience=1)"
   ]
  },
  {
   "cell_type": "code",
   "execution_count": null,
   "id": "b0cc5938-ea27-4830-ab1f-b715017762e1",
   "metadata": {},
   "outputs": [],
   "source": [
    "batch_size = 16"
   ]
  },
  {
   "cell_type": "code",
   "execution_count": null,
   "id": "1dafc42c-b404-4c90-a928-9f3d951a6f2c",
   "metadata": {},
   "outputs": [],
   "source": [
    "train_image_gen = image_gen.flow_from_directory(train_path,target_size=image_shape[:2],color_mode='rgb',batch_size=16, class_mode='categorical')"
   ]
  },
  {
   "cell_type": "code",
   "execution_count": null,
   "id": "b2361d7c-5f5a-4658-9595-7b8cbf836057",
   "metadata": {},
   "outputs": [],
   "source": [
    "test_image_gen = image_gen.flow_from_directory(test_path,target_size=image_shape[:2],color_mode='rgb',batch_size=16, class_mode='categorical',shuffle=False)"
   ]
  },
  {
   "cell_type": "code",
   "execution_count": null,
   "id": "38ac96ab-df62-4a30-b9e1-8378100311f8",
   "metadata": {},
   "outputs": [],
   "source": [
    "train_image_gen.class_indices"
   ]
  },
  {
   "cell_type": "code",
   "execution_count": null,
   "id": "fee876fd-8bfe-4fba-a2b7-23730765b9cf",
   "metadata": {},
   "outputs": [],
   "source": [
    "results=model.fit_generator(train_image_gen, epochs=2,validation_data=test_image_gen, callbacks=[early_stop])"
   ]
  },
  {
   "cell_type": "code",
   "execution_count": null,
   "id": "8615d6b6-c29f-470a-bbdb-4614985b44bc",
   "metadata": {},
   "outputs": [],
   "source": [
    "model.summary()"
   ]
  },
  {
   "cell_type": "code",
   "execution_count": null,
   "id": "23e73b79-d7e6-4c84-af46-c462e1f3b195",
   "metadata": {},
   "outputs": [],
   "source": [
    "pred = model.predict_generator(test_image_gen)"
   ]
  },
  {
   "cell_type": "code",
   "execution_count": null,
   "id": "ebc80852-71a9-446b-9e80-80447da4c921",
   "metadata": {},
   "outputs": [],
   "source": [
    "'F:\\colon disease\\\\val\\\\0_normal\\\\val_normal_ (1).jpg'"
   ]
  },
  {
   "cell_type": "code",
   "execution_count": null,
   "id": "c75e20d4-3db4-4f77-a502-584bc351565a",
   "metadata": {},
   "outputs": [],
   "source": [
    "os.listdir('F:\\colon disease\\\\val\\\\0_normal')"
   ]
  },
  {
   "cell_type": "code",
   "execution_count": null,
   "id": "4b5a942d-b9bb-42f0-a8e1-4ac4cc6cd2a6",
   "metadata": {},
   "outputs": [],
   "source": [
    "from tensorflow.keras.preprocessing import image"
   ]
  },
  {
   "cell_type": "code",
   "execution_count": null,
   "id": "d45822c1-26c4-4dbd-9f52-4d5a95bcebe8",
   "metadata": {},
   "outputs": [],
   "source": [
    "single_image = image.load_img('F:\\colon disease\\\\val\\\\1_ulcerative_colitis\\\\val_ulcer_ (97).jpg')"
   ]
  },
  {
   "cell_type": "code",
   "execution_count": null,
   "id": "43068fe2-7906-4f42-9d46-c8dd08b371e4",
   "metadata": {},
   "outputs": [],
   "source": [
    "image_shape"
   ]
  },
  {
   "cell_type": "code",
   "execution_count": null,
   "id": "595dd7d4-ad0e-4686-9437-7d8e8a3d9460",
   "metadata": {},
   "outputs": [],
   "source": [
    "from PIL import Image\n",
    "original_image = Image.open('F:\\colon disease\\\\val\\\\1_ulcerative_colitis\\\\val_ulcer_ (97).jpg')\n",
    "reshape_image = original_image.resize((676,554))"
   ]
  },
  {
   "cell_type": "code",
   "execution_count": null,
   "id": "ddb248e6-4b1c-41f6-9dfc-4fcf8df0df31",
   "metadata": {},
   "outputs": [],
   "source": [
    "a=np.expand_dims(image.img_to_array(image.img_to_array(reshape_image)),axis=0)"
   ]
  },
  {
   "cell_type": "code",
   "execution_count": null,
   "id": "eed3c7e7-f72e-4566-aa09-ca141e8c9c40",
   "metadata": {},
   "outputs": [],
   "source": [
    "model.predict(a)"
   ]
  },
  {
   "cell_type": "code",
   "execution_count": null,
   "id": "bf64c123-0684-449b-91b0-9a0320fb7108",
   "metadata": {},
   "outputs": [],
   "source": [
    "test_image_gen.class_indices"
   ]
  },
  {
   "cell_type": "code",
   "execution_count": null,
   "id": "1afa6623-1a86-4d6e-9fdb-e8206e585320",
   "metadata": {},
   "outputs": [],
   "source": [
    "np.argma(pred)"
   ]
  }
 ],
 "metadata": {
  "kernelspec": {
   "display_name": "Python 3 (ipykernel)",
   "language": "python",
   "name": "python3"
  },
  "language_info": {
   "codemirror_mode": {
    "name": "ipython",
    "version": 3
   },
   "file_extension": ".py",
   "mimetype": "text/x-python",
   "name": "python",
   "nbconvert_exporter": "python",
   "pygments_lexer": "ipython3",
   "version": "3.8.8"
  }
 },
 "nbformat": 4,
 "nbformat_minor": 5
}
